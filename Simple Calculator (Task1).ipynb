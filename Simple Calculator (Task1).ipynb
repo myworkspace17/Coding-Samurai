{
 "cells": [
  {
   "cell_type": "markdown",
   "id": "310941f8-d379-4df7-8fc9-8d38b80b2d61",
   "metadata": {},
   "source": [
    "# PYTHON DEVELOPMENT"
   ]
  },
  {
   "cell_type": "markdown",
   "id": "11213779-7eb0-467a-ac83-d0ba00513f2d",
   "metadata": {},
   "source": [
    "# Project 1: Sample Calculator"
   ]
  },
  {
   "cell_type": "markdown",
   "id": "b8081b64-9a1c-49f8-8d55-389ec9894a97",
   "metadata": {},
   "source": [
    " # BY Hari Krishna "
   ]
  },
  {
   "cell_type": "raw",
   "id": "96d7fabe-22fa-40ca-9757-9c6e22e4313e",
   "metadata": {},
   "source": [
    "Project 1: Simple Calculator\n",
    "• Description: Create a simple calculator that can perform basic\n",
    "operations like addition,subtraction, multiplication, and division.\n",
    "• Skills: Basic syntax, user input, conditionals."
   ]
  },
  {
   "cell_type": "code",
   "execution_count": 3,
   "id": "5b75f9c8-4245-4ff5-82df-08ef35400e91",
   "metadata": {},
   "outputs": [
    {
     "name": "stdout",
     "output_type": "stream",
     "text": [
      "\n",
      "Simple Calculator\n",
      "Select operation:\n",
      "1. Add\n",
      "2. Subtract\n",
      "3. Multiply\n",
      "4. Divide\n"
     ]
    },
    {
     "name": "stdin",
     "output_type": "stream",
     "text": [
      "Enter choice (1/2/3/4):  1\n",
      "Enter first number:  2\n",
      "Enter second number:  1\n"
     ]
    },
    {
     "name": "stdout",
     "output_type": "stream",
     "text": [
      "2.0 + 1.0 = 3.0\n"
     ]
    },
    {
     "name": "stdin",
     "output_type": "stream",
     "text": [
      "\n",
      "Do you want to perform another calculation? (yes/no):  2\n"
     ]
    },
    {
     "name": "stdout",
     "output_type": "stream",
     "text": [
      "Thank you for using the calculator!\n"
     ]
    }
   ],
   "source": [
    "# Simple Calculator With Conditional Loops and Statements:\n",
    "\n",
    "while True:  # Start an infinite loop for repeated calculations\n",
    "    print(\"\\nSimple Calculator\")\n",
    "    print(\"Select operation:\")\n",
    "    print(\"1. Add\")\n",
    "    print(\"2. Subtract\")\n",
    "    print(\"3. Multiply\")\n",
    "    print(\"4. Divide\")\n",
    "\n",
    "    # Take user input for operation\n",
    "    operation = input(\"Enter choice (1/2/3/4): \")\n",
    "\n",
    "    # Validate the operation input\n",
    "    if operation in ['1', '2', '3', '4']:\n",
    "        try:\n",
    "            # Take two numbers as input from the user\n",
    "            num1 = float(input(\"Enter first number: \"))\n",
    "            num2 = float(input(\"Enter second number: \"))\n",
    "\n",
    "            # Perform the operation based on the choice\n",
    "            if operation == '1':\n",
    "                result = num1 + num2  # Addition\n",
    "                print(f\"{num1} + {num2} = {result}\")\n",
    "            elif operation == '2':\n",
    "                result = num1 - num2  # Subtraction\n",
    "                print(f\"{num1} - {num2} = {result}\")\n",
    "            elif operation == '3':\n",
    "                result = num1 * num2  # Multiplication\n",
    "                print(f\"{num1} * {num2} = {result}\")\n",
    "            elif operation == '4':\n",
    "                if num2 != 0:\n",
    "                    result = num1 / num2  # Division\n",
    "                    print(f\"{num1} / {num2} = {result}\")\n",
    "                else:\n",
    "                    print(\"Error! Cannot divide by zero.\")\n",
    "\n",
    "        except ValueError:\n",
    "            print(\"Invalid input! Please enter numeric values.\")\n",
    "    else:\n",
    "        print(\"Invalid operation choice! Please select a valid operation.\")\n",
    "\n",
    "    # Ask if the user wants to perform another calculation\n",
    "    continue_calculating = input(\"\\nDo you want to perform another calculation? (yes/no): \").lower()\n",
    "\n",
    "    if continue_calculating != \"yes\":\n",
    "        print(\"Thank you for using the calculator!\")\n",
    "        break  # Exit the loop and end the program\n"
   ]
  },
  {
   "cell_type": "code",
   "execution_count": null,
   "id": "606e8b5e-af5e-4667-a53a-42af86ac34ab",
   "metadata": {},
   "outputs": [],
   "source": [
    "\n"
   ]
  }
 ],
 "metadata": {
  "kernelspec": {
   "display_name": "Python 3 (ipykernel)",
   "language": "python",
   "name": "python3"
  },
  "language_info": {
   "codemirror_mode": {
    "name": "ipython",
    "version": 3
   },
   "file_extension": ".py",
   "mimetype": "text/x-python",
   "name": "python",
   "nbconvert_exporter": "python",
   "pygments_lexer": "ipython3",
   "version": "3.12.4"
  }
 },
 "nbformat": 4,
 "nbformat_minor": 5
}
