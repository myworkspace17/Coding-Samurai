{
 "cells": [
  {
   "cell_type": "markdown",
   "id": "584507e2-0dc4-4e67-b9e0-df255e2603f0",
   "metadata": {},
   "source": [
    "# Project2: TO DO LIST APPLICATION (Task2) "
   ]
  },
  {
   "cell_type": "markdown",
   "id": "9363d31f-20cd-40b4-b4b9-c31dedbaf73b",
   "metadata": {},
   "source": [
    "# By Hari krishna"
   ]
  },
  {
   "cell_type": "raw",
   "id": "6c9ba0f3-3d0c-4a5a-982e-342c0a7c7c91",
   "metadata": {},
   "source": [
    "Description: Build a command-line to-do list application where\n",
    "users can add, delete, and view tasks.\n",
    "• Skills: Lists, loops, user input, file handling."
   ]
  },
  {
   "cell_type": "markdown",
   "id": "b491457f-5740-4499-8bfc-c5fa7db96193",
   "metadata": {},
   "source": [
    " # TO DO LIST APPLICATOIN"
   ]
  },
  {
   "cell_type": "code",
   "execution_count": 1,
   "id": "0a260823-6647-49c4-b01a-2c6daa2b5b69",
   "metadata": {},
   "outputs": [
    {
     "name": "stdout",
     "output_type": "stream",
     "text": [
      "\n",
      "--- To-Do List Application ---\n",
      "1. View Tasks\n",
      "2. Add Task\n",
      "3. Delete Task\n",
      "4. Exit\n"
     ]
    },
    {
     "name": "stdin",
     "output_type": "stream",
     "text": [
      "Choose an option (1-4):  1\n"
     ]
    },
    {
     "name": "stdout",
     "output_type": "stream",
     "text": [
      "Your task list is empty.\n",
      "\n",
      "--- To-Do List Application ---\n",
      "1. View Tasks\n",
      "2. Add Task\n",
      "3. Delete Task\n",
      "4. Exit\n"
     ]
    },
    {
     "name": "stdin",
     "output_type": "stream",
     "text": [
      "Choose an option (1-4):  2\n",
      "Enter the task to add:  6\n"
     ]
    },
    {
     "name": "stdout",
     "output_type": "stream",
     "text": [
      "Task '6' has been added.\n",
      "\n",
      "--- To-Do List Application ---\n",
      "1. View Tasks\n",
      "2. Add Task\n",
      "3. Delete Task\n",
      "4. Exit\n"
     ]
    },
    {
     "name": "stdin",
     "output_type": "stream",
     "text": [
      "Choose an option (1-4):  3\n"
     ]
    },
    {
     "name": "stdout",
     "output_type": "stream",
     "text": [
      "\n",
      "Your Current Tasks:\n",
      "1. 6\n"
     ]
    },
    {
     "name": "stdin",
     "output_type": "stream",
     "text": [
      "Enter the task number to delete:  1\n"
     ]
    },
    {
     "name": "stdout",
     "output_type": "stream",
     "text": [
      "Task '6' has been deleted.\n",
      "\n",
      "--- To-Do List Application ---\n",
      "1. View Tasks\n",
      "2. Add Task\n",
      "3. Delete Task\n",
      "4. Exit\n"
     ]
    },
    {
     "name": "stdin",
     "output_type": "stream",
     "text": [
      "Choose an option (1-4):  4\n"
     ]
    },
    {
     "name": "stdout",
     "output_type": "stream",
     "text": [
      "Goodbye! Exiting the To-Do List Application.\n"
     ]
    }
   ],
   "source": [
    "# Initialize an empty list to store tasks\r\n",
    "tasks = []\r\n",
    "\r\n",
    "# Start the main loop to keep the program running\r\n",
    "while True:\r\n",
    "    # Show the menu\r\n",
    "    print(\"\\n--- To-Do List Application ---\")\r\n",
    "    print(\"1. View Tasks\")\r\n",
    "    print(\"2. Add Task\")\r\n",
    "    print(\"3. Delete Task\")\r\n",
    "    print(\"4. Exit\")\r\n",
    "\r\n",
    "    # Get the user's choice\r\n",
    "    choice = input(\"Choose an option (1-4): \")\r\n",
    "\r\n",
    "    # Option 1: View tasks\r\n",
    "    if choice == '1':\r\n",
    "        if len(tasks) == 0:\r\n",
    "            print(\"Your task list is empty.\")\r\n",
    "        else:\r\n",
    "            print(\"\\nYour Current Tasks:\")\r\n",
    "            for index, task in enumerate(tasks, start=1):\r\n",
    "                print(f\"{index}. {task}\")\r\n",
    "\r\n",
    "    # Option 2: Add a task\r\n",
    "    elif choice == '2':\r\n",
    "        task = input(\"Enter the task to add: \")\r\n",
    "        if task:\r\n",
    "            tasks.append(task)  # Add the task to the list\r\n",
    "            print(f\"Task '{task}' has been added.\")\r\n",
    "        else:\r\n",
    "            print(\"Task cannot be empty. Please enter a valid task.\")\r\n",
    "\r\n",
    "    # Option 3: Delete a task\r\n",
    "    elif choice =1= '3':\r\n",
    "        if len(tasks) == 0:\r\n",
    "            print(\"No tasks to delete.\")\r\n",
    "        else:\r\n",
    "            print(\"\\nYour Current Tasks:\")\r\n",
    "            for index, task in enumerate(tasks, start=1):\r\n",
    "                print(f\"{index}. {task}\")\r\n",
    "            \r\n",
    "            try:\r\n",
    "                task_number = int(input(\"Enter the task number to delete: \"))\r\n",
    "                if 1 <= task_number <= len(tasks):\r\n",
    "                    deleted_task = tasks.pop(task_number - 1)  # Remove the selected task\r\n",
    "                    print(f\"Task '{deleted_task}' has been deleted.\")\r\n",
    "                else:\r\n",
    "                    print(\"Invalid task number.\")\r\n",
    "            except ValueError:\r\n",
    "                print(\"Please enter a valid number.\")\r\n",
    "\r\n",
    "    # Option 4: Exit the program\r\n",
    "    elif choice == '4':\r\n",
    "        print(\"Goodbye! Exiting the To-Do List Application.\")\r\n",
    "        break\r\n",
    "\r\n",
    "    # Handle invalid input\r\n",
    "    else:\r\n",
    "        print(\"Invalid choice. Please select a number between 1 and 4.\")\r\n"
   ]
  },
  {
   "cell_type": "code",
   "execution_count": null,
   "id": "09436af9-b944-41fa-9aea-d353a2aed3c1",
   "metadata": {},
   "outputs": [],
   "source": []
  }
 ],
 "metadata": {
  "kernelspec": {
   "display_name": "Python 3 (ipykernel)",
   "language": "python",
   "name": "python3"
  },
  "language_info": {
   "codemirror_mode": {
    "name": "ipython",
    "version": 3
   },
   "file_extension": ".py",
   "mimetype": "text/x-python",
   "name": "python",
   "nbconvert_exporter": "python",
   "pygments_lexer": "ipython3",
   "version": "3.12.4"
  }
 },
 "nbformat": 4,
 "nbformat_minor": 5
}
