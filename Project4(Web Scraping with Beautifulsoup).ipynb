{
 "cells": [
  {
   "cell_type": "markdown",
   "id": "6512227b-16b9-4aec-9a30-18f6b0ac0e88",
   "metadata": {},
   "source": [
    " # Project 4: Web Scraping with Beautifulsoup"
   ]
  },
  {
   "cell_type": "markdown",
   "id": "a373b05c-2002-40f8-981f-34052bbb1ece",
   "metadata": {},
   "source": [
    "# BY Hari Krishna"
   ]
  },
  {
   "cell_type": "code",
   "execution_count": null,
   "id": "3581be43-66e8-4d9d-a62c-74a4a18eefc6",
   "metadata": {},
   "outputs": [],
   "source": [
    "Web Scraping with BeautifulSoup\n",
    "• Description: Use the BeautifulSoup library to scrape data from a\n",
    "website and save it into a CSV file. You can scrape news headlines,\n",
    "weather data, or other publicly available information.\n",
    "• Skills: Web scraping, parsing HTML, working with CSV files."
   ]
  },
  {
   "cell_type": "code",
   "execution_count": 2,
   "id": "ce167e04-5d1e-4e36-8f8a-316fdf49fbe3",
   "metadata": {},
   "outputs": [
    {
     "name": "stdout",
     "output_type": "stream",
     "text": [
      "Successfully retrieved the webpage.\n",
      "Job listings have been saved to 'data_analyst_jobs_in_hyderabad.csv'\n"
     ]
    }
   ],
   "source": [
    "import requests\n",
    "from bs4 import BeautifulSoup\n",
    "import pandas as pd\n",
    "\n",
    "# URL of the Naukri job listings (Data Analyst jobs in Hyderabad/ Secunderabad)\n",
    "url = \"https://www.naukri.com/data-analyst-jobs-in-hyderabad-secunderabad\"\n",
    "\n",
    "# Step 1: Send GET request to fetch the HTML content of the page\n",
    "response = requests.get(url)\n",
    "\n",
    "# Step 2: Check if the request was successful\n",
    "if response.status_code == 200:\n",
    "    print(\"Successfully retrieved the webpage.\")\n",
    "    page_content = response.content\n",
    "else:\n",
    "    print(f\"Failed to retrieve the webpage. Status code: {response.status_code}\")\n",
    "    exit()\n",
    "\n",
    "# Step 3: Parse the HTML content using BeautifulSoup\n",
    "soup = BeautifulSoup(page_content, 'html.parser')\n",
    "\n",
    "# Step 4: Find the relevant data (job titles, company names, etc.)\n",
    "# In Naukri, the job titles are usually within <a> tags with class 'title'\n",
    "job_titles = soup.find_all('a', class_='title')\n",
    "\n",
    "# Step 5: Extract the text of each job title and link\n",
    "job_listings = []\n",
    "for job in job_titles:\n",
    "    job_title = job.get_text(strip=True)\n",
    "    job_link = job['href']\n",
    "    job_listings.append([job_title, job_link])\n",
    "\n",
    "# Step 6: Find the corresponding company names\n",
    "companies = soup.find_all('a', class_='subTitle')\n",
    "\n",
    "company_names = [company.get_text(strip=True) for company in companies]\n",
    "\n",
    "# Step 7: Combine the job titles, companies, and links into a DataFrame\n",
    "job_data = []\n",
    "for i in range(len(job_listings)):\n",
    "    job_data.append([job_listings[i][0], company_names[i] if i < len(company_names) else 'Not Available', job_listings[i][1]])\n",
    "\n",
    "# Convert to a DataFrame\n",
    "df = pd.DataFrame(job_data, columns=['Job Title', 'Company Name', 'Job Link'])\n",
    "\n",
    "# Step 8: Save the job listings to a CSV file\n",
    "df.to_csv('data_analyst_jobs_in_hyderabad.csv', index=False)\n",
    "\n",
    "print(\"Job listings have been saved to 'data_analyst_jobs_in_hyderabad.csv'\")\n"
   ]
  },
  {
   "cell_type": "code",
   "execution_count": null,
   "id": "b9b08d0a-7db9-4c96-b8db-f1f959f42696",
   "metadata": {},
   "outputs": [],
   "source": []
  }
 ],
 "metadata": {
  "kernelspec": {
   "display_name": "Python 3 (ipykernel)",
   "language": "python",
   "name": "python3"
  },
  "language_info": {
   "codemirror_mode": {
    "name": "ipython",
    "version": 3
   },
   "file_extension": ".py",
   "mimetype": "text/x-python",
   "name": "python",
   "nbconvert_exporter": "python",
   "pygments_lexer": "ipython3",
   "version": "3.12.4"
  }
 },
 "nbformat": 4,
 "nbformat_minor": 5
}
