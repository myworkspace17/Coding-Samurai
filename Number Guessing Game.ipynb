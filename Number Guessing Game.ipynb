{
 "cells": [
  {
   "cell_type": "markdown",
   "id": "f8894826-b1d3-45dc-be0f-e774d54bb879",
   "metadata": {},
   "source": [
    " # Project:3 (Number Guessing Game GUI)"
   ]
  },
  {
   "cell_type": "markdown",
   "id": "9e1b864f-643a-419b-9d45-cd373b476368",
   "metadata": {},
   "source": [
    "  # By Hari Krishna"
   ]
  },
  {
   "cell_type": "raw",
   "id": "63bc0a3e-6f5d-48c6-98f3-3758f2400518",
   "metadata": {},
   "source": [
    "Project 4: Number Guessing Game with GUI\n",
    "• Description: Develop a number guessing game GUI \n",
    "library where the user can guess a random number.\n",
    "• Skills:  random number generation, conditionals."
   ]
  },
  {
   "cell_type": "code",
   "execution_count": 2,
   "id": "2a09d8f1-5b97-400f-9a85-b0fa986b428e",
   "metadata": {},
   "outputs": [
    {
     "name": "stdin",
     "output_type": "stream",
     "text": [
      "Enter your number: 5\n"
     ]
    },
    {
     "name": "stdout",
     "output_type": "stream",
     "text": [
      "Your guess is higher than the Number\n"
     ]
    },
    {
     "name": "stdin",
     "output_type": "stream",
     "text": [
      "Enter your number: 4\n"
     ]
    },
    {
     "name": "stdout",
     "output_type": "stream",
     "text": [
      "Your guess is higher than the Number\n"
     ]
    },
    {
     "name": "stdin",
     "output_type": "stream",
     "text": [
      "Enter your number: 3\n"
     ]
    },
    {
     "name": "stdout",
     "output_type": "stream",
     "text": [
      "♣♣♣Congratulations Your Guess is Correct♣♣♣\n"
     ]
    }
   ],
   "source": [
    "#Number Guessing using randon : #Between 1 to 20\n",
    "import random\n",
    "\n",
    "Number=random.randrange(1,20)\n",
    "while True:\n",
    "\n",
    "    Guess =int(input(\"Enter your number:\"))\n",
    "    if Number==Guess:\n",
    "        print(\"♣♣♣Congratulations Your Guess i5\n",
    "        s Correct♣♣♣\")\n",
    "\n",
    "        break\n",
    "    elif Number<Guess:\n",
    "        print(\"Your guess is higher than the Number\")\n",
    "\n",
    "    elif Number>Guess:\n",
    "        print(\"Your guess is lower than the Number\")\n"
   ]
  },
  {
   "cell_type": "code",
   "execution_count": null,
   "id": "4732e9b6-a2b2-43f2-8002-18c902bfedd6",
   "metadata": {},
   "outputs": [],
   "source": []
  }
 ],
 "metadata": {
  "kernelspec": {
   "display_name": "Python 3 (ipykernel)",
   "language": "python",
   "name": "python3"
  },
  "language_info": {
   "codemirror_mode": {
    "name": "ipython",
    "version": 3
   },
   "file_extension": ".py",
   "mimetype": "text/x-python",
   "name": "python",
   "nbconvert_exporter": "python",
   "pygments_lexer": "ipython3",
   "version": "3.12.4"
  }
 },
 "nbformat": 4,
 "nbformat_minor": 5
}
